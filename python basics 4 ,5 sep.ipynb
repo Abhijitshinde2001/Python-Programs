{
 "cells": [
  {
   "cell_type": "code",
   "execution_count": null,
   "id": "dd3948a7",
   "metadata": {},
   "outputs": [],
   "source": []
  },
  {
   "cell_type": "markdown",
   "id": "f1e13006",
   "metadata": {},
   "source": [
    "# Python  list data types"
   ]
  },
  {
   "cell_type": "code",
   "execution_count": 1,
   "id": "306726e0",
   "metadata": {},
   "outputs": [
    {
     "ename": "NameError",
     "evalue": "name 'i' is not defined",
     "output_type": "error",
     "traceback": [
      "\u001b[1;31m---------------------------------------------------------------------------\u001b[0m",
      "\u001b[1;31mNameError\u001b[0m                                 Traceback (most recent call last)",
      "Cell \u001b[1;32mIn[1], line 1\u001b[0m\n\u001b[1;32m----> 1\u001b[0m list1\u001b[38;5;241m=\u001b[39m[\u001b[38;5;241m2\u001b[39m,\u001b[38;5;124m'\u001b[39m\u001b[38;5;124mabhr\u001b[39m\u001b[38;5;124m'\u001b[39m,\u001b[38;5;241m3.4\u001b[39m,\u001b[38;5;241m23\u001b[39m\u001b[38;5;241m+\u001b[39mi]\n\u001b[0;32m      2\u001b[0m list1\n",
      "\u001b[1;31mNameError\u001b[0m: name 'i' is not defined"
     ]
    }
   ],
   "source": [
    "list1=[2,'abhr',3.4,23+i]\n",
    "list1"
   ]
  },
  {
   "cell_type": "markdown",
   "id": "c1c2abf4",
   "metadata": {},
   "source": [
    "# python tuple data type"
   ]
  },
  {
   "cell_type": "code",
   "execution_count": null,
   "id": "d0894a70",
   "metadata": {},
   "outputs": [],
   "source": [
    "names=(1,'dd',2.3)\n",
    "names"
   ]
  },
  {
   "cell_type": "markdown",
   "id": "8e0120b9",
   "metadata": {},
   "source": [
    "# python dictionary data type"
   ]
  },
  {
   "cell_type": "code",
   "execution_count": null,
   "id": "4e78a589",
   "metadata": {},
   "outputs": [],
   "source": [
    "dictionary={\"city:pune\",'capital:Delhi'}\n",
    "dictionary"
   ]
  },
  {
   "cell_type": "code",
   "execution_count": null,
   "id": "8f5825f1",
   "metadata": {},
   "outputs": [],
   "source": [
    "for i in range(10):\n",
    "    if(i==11):\n",
    "        pass;\n",
    "    print(\"motar starts\")"
   ]
  },
  {
   "cell_type": "code",
   "execution_count": null,
   "id": "673b5683",
   "metadata": {},
   "outputs": [],
   "source": []
  },
  {
   "cell_type": "code",
   "execution_count": null,
   "id": "d377b2b1",
   "metadata": {},
   "outputs": [],
   "source": [
    "34+34"
   ]
  },
  {
   "cell_type": "code",
   "execution_count": null,
   "id": "cae4462b",
   "metadata": {},
   "outputs": [],
   "source": [
    "for letter in \"Data science\":\n",
    "    print(letter*4,end=\" \")"
   ]
  },
  {
   "cell_type": "code",
   "execution_count": null,
   "id": "ce77772e",
   "metadata": {},
   "outputs": [],
   "source": [
    "len(\"abhi jit\")"
   ]
  },
  {
   "cell_type": "code",
   "execution_count": null,
   "id": "a4715054",
   "metadata": {},
   "outputs": [],
   "source": [
    "len(\"abhijit\")"
   ]
  },
  {
   "cell_type": "code",
   "execution_count": 4,
   "id": "2013d14c",
   "metadata": {},
   "outputs": [
    {
     "data": {
      "text/plain": [
       "[40, 50, 60, 30]"
      ]
     },
     "execution_count": 4,
     "metadata": {},
     "output_type": "execute_result"
    }
   ],
   "source": [
    "Marks=[40,50,60,30]\n",
    "Marks"
   ]
  },
  {
   "cell_type": "code",
   "execution_count": 5,
   "id": "8a93f1b6",
   "metadata": {},
   "outputs": [
    {
     "data": {
      "text/plain": [
       "list"
      ]
     },
     "execution_count": 5,
     "metadata": {},
     "output_type": "execute_result"
    }
   ],
   "source": [
    "type(Marks)"
   ]
  },
  {
   "cell_type": "code",
   "execution_count": 6,
   "id": "feaac90d",
   "metadata": {},
   "outputs": [
    {
     "data": {
      "text/plain": [
       "(23, 't', 4.5)"
      ]
     },
     "execution_count": 6,
     "metadata": {},
     "output_type": "execute_result"
    }
   ],
   "source": [
    "names=(23,'t',4.5)\n",
    "names"
   ]
  },
  {
   "cell_type": "code",
   "execution_count": 7,
   "id": "57b9b87d",
   "metadata": {},
   "outputs": [
    {
     "data": {
      "text/plain": [
       "tuple"
      ]
     },
     "execution_count": 7,
     "metadata": {},
     "output_type": "execute_result"
    }
   ],
   "source": [
    "type(names)"
   ]
  },
  {
   "cell_type": "code",
   "execution_count": 10,
   "id": "f74e0c6f",
   "metadata": {},
   "outputs": [
    {
     "data": {
      "text/plain": [
       "['__add__',\n",
       " '__class__',\n",
       " '__class_getitem__',\n",
       " '__contains__',\n",
       " '__delattr__',\n",
       " '__delitem__',\n",
       " '__dir__',\n",
       " '__doc__',\n",
       " '__eq__',\n",
       " '__format__',\n",
       " '__ge__',\n",
       " '__getattribute__',\n",
       " '__getitem__',\n",
       " '__getstate__',\n",
       " '__gt__',\n",
       " '__hash__',\n",
       " '__iadd__',\n",
       " '__imul__',\n",
       " '__init__',\n",
       " '__init_subclass__',\n",
       " '__iter__',\n",
       " '__le__',\n",
       " '__len__',\n",
       " '__lt__',\n",
       " '__mul__',\n",
       " '__ne__',\n",
       " '__new__',\n",
       " '__reduce__',\n",
       " '__reduce_ex__',\n",
       " '__repr__',\n",
       " '__reversed__',\n",
       " '__rmul__',\n",
       " '__setattr__',\n",
       " '__setitem__',\n",
       " '__sizeof__',\n",
       " '__str__',\n",
       " '__subclasshook__',\n",
       " 'append',\n",
       " 'clear',\n",
       " 'copy',\n",
       " 'count',\n",
       " 'extend',\n",
       " 'index',\n",
       " 'insert',\n",
       " 'pop',\n",
       " 'remove',\n",
       " 'reverse',\n",
       " 'sort']"
      ]
     },
     "execution_count": 10,
     "metadata": {},
     "output_type": "execute_result"
    }
   ],
   "source": [
    "dir(list)"
   ]
  },
  {
   "cell_type": "code",
   "execution_count": 11,
   "id": "0b1bdd57",
   "metadata": {},
   "outputs": [
    {
     "data": {
      "text/plain": [
       "['__add__',\n",
       " '__class__',\n",
       " '__class_getitem__',\n",
       " '__contains__',\n",
       " '__delattr__',\n",
       " '__dir__',\n",
       " '__doc__',\n",
       " '__eq__',\n",
       " '__format__',\n",
       " '__ge__',\n",
       " '__getattribute__',\n",
       " '__getitem__',\n",
       " '__getnewargs__',\n",
       " '__getstate__',\n",
       " '__gt__',\n",
       " '__hash__',\n",
       " '__init__',\n",
       " '__init_subclass__',\n",
       " '__iter__',\n",
       " '__le__',\n",
       " '__len__',\n",
       " '__lt__',\n",
       " '__mul__',\n",
       " '__ne__',\n",
       " '__new__',\n",
       " '__reduce__',\n",
       " '__reduce_ex__',\n",
       " '__repr__',\n",
       " '__rmul__',\n",
       " '__setattr__',\n",
       " '__sizeof__',\n",
       " '__str__',\n",
       " '__subclasshook__',\n",
       " 'count',\n",
       " 'index']"
      ]
     },
     "execution_count": 11,
     "metadata": {},
     "output_type": "execute_result"
    }
   ],
   "source": [
    "dir(tuple)"
   ]
  },
  {
   "cell_type": "code",
   "execution_count": 12,
   "id": "5c1c45b2",
   "metadata": {},
   "outputs": [
    {
     "data": {
      "text/plain": [
       "[30, 40, 50, 60]"
      ]
     },
     "execution_count": 12,
     "metadata": {},
     "output_type": "execute_result"
    }
   ],
   "source": [
    "new_marks=sorted(Marks)\n",
    "new_marks"
   ]
  },
  {
   "cell_type": "code",
   "execution_count": 13,
   "id": "e5b88b68",
   "metadata": {},
   "outputs": [
    {
     "data": {
      "text/plain": [
       "[40, 50, 60, 30]"
      ]
     },
     "execution_count": 13,
     "metadata": {},
     "output_type": "execute_result"
    }
   ],
   "source": [
    "Marks"
   ]
  },
  {
   "cell_type": "code",
   "execution_count": 14,
   "id": "acec4138",
   "metadata": {},
   "outputs": [
    {
     "data": {
      "text/plain": [
       "[30, 40, 50, 60]"
      ]
     },
     "execution_count": 14,
     "metadata": {},
     "output_type": "execute_result"
    }
   ],
   "source": [
    "Marks.sort()\n",
    "Marks"
   ]
  },
  {
   "cell_type": "code",
   "execution_count": 15,
   "id": "3d348a3b",
   "metadata": {},
   "outputs": [
    {
     "data": {
      "text/plain": [
       "[30, 40, 50, 60, 21]"
      ]
     },
     "execution_count": 15,
     "metadata": {},
     "output_type": "execute_result"
    }
   ],
   "source": [
    "Marks.append(21)\n",
    "Marks"
   ]
  },
  {
   "cell_type": "code",
   "execution_count": 16,
   "id": "54412221",
   "metadata": {},
   "outputs": [
    {
     "data": {
      "text/plain": [
       "[21, 60, 50, 40, 30]"
      ]
     },
     "execution_count": 16,
     "metadata": {},
     "output_type": "execute_result"
    }
   ],
   "source": [
    "Marks.reverse()\n",
    "Marks"
   ]
  },
  {
   "cell_type": "code",
   "execution_count": 17,
   "id": "21aa40c5",
   "metadata": {},
   "outputs": [
    {
     "data": {
      "text/plain": [
       "[21, 60, 50, 40]"
      ]
     },
     "execution_count": 17,
     "metadata": {},
     "output_type": "execute_result"
    }
   ],
   "source": [
    "Marks.pop()\n",
    "Marks"
   ]
  },
  {
   "cell_type": "code",
   "execution_count": 18,
   "id": "efff2293",
   "metadata": {},
   "outputs": [
    {
     "data": {
      "text/plain": [
       "[21, 60, 50]"
      ]
     },
     "execution_count": 18,
     "metadata": {},
     "output_type": "execute_result"
    }
   ],
   "source": [
    "Marks.pop()\n",
    "Marks"
   ]
  },
  {
   "cell_type": "code",
   "execution_count": 19,
   "id": "8f0e32c6",
   "metadata": {},
   "outputs": [
    {
     "data": {
      "text/plain": [
       "[21, 60, 50]"
      ]
     },
     "execution_count": 19,
     "metadata": {},
     "output_type": "execute_result"
    }
   ],
   "source": [
    "Marks"
   ]
  },
  {
   "cell_type": "code",
   "execution_count": 20,
   "id": "fa72d208",
   "metadata": {},
   "outputs": [
    {
     "data": {
      "text/plain": [
       "[32, 34, 43, 54, 67]"
      ]
     },
     "execution_count": 20,
     "metadata": {},
     "output_type": "execute_result"
    }
   ],
   "source": [
    "marks2=[32,34,43,54,67]\n",
    "marks2"
   ]
  },
  {
   "cell_type": "code",
   "execution_count": 21,
   "id": "e572db02",
   "metadata": {},
   "outputs": [
    {
     "data": {
      "text/plain": [
       "[32, 34, 43, 54, 67]"
      ]
     },
     "execution_count": 21,
     "metadata": {},
     "output_type": "execute_result"
    }
   ],
   "source": [
    "marks2.sort(reverse=False)\n",
    "marks2\n"
   ]
  },
  {
   "cell_type": "code",
   "execution_count": 22,
   "id": "2ec8050a",
   "metadata": {},
   "outputs": [
    {
     "ename": "TypeError",
     "evalue": "list.count() takes exactly one argument (0 given)",
     "output_type": "error",
     "traceback": [
      "\u001b[1;31m---------------------------------------------------------------------------\u001b[0m",
      "\u001b[1;31mTypeError\u001b[0m                                 Traceback (most recent call last)",
      "Cell \u001b[1;32mIn[22], line 1\u001b[0m\n\u001b[1;32m----> 1\u001b[0m marks2\u001b[38;5;241m.\u001b[39mcount()\n\u001b[0;32m      2\u001b[0m marks2\n",
      "\u001b[1;31mTypeError\u001b[0m: list.count() takes exactly one argument (0 given)"
     ]
    }
   ],
   "source": [
    "marks2.count()\n",
    "marks2"
   ]
  },
  {
   "cell_type": "code",
   "execution_count": 23,
   "id": "e67dc44f",
   "metadata": {},
   "outputs": [
    {
     "data": {
      "text/plain": [
       "[32, 34, 43, 54, 67]"
      ]
     },
     "execution_count": 23,
     "metadata": {},
     "output_type": "execute_result"
    }
   ],
   "source": [
    "m=sorted(marks2)\n",
    "m\n",
    "\n"
   ]
  },
  {
   "cell_type": "code",
   "execution_count": 24,
   "id": "1eb61e3b",
   "metadata": {},
   "outputs": [
    {
     "data": {
      "text/plain": [
       "[21, 32, 5, 85, 78, 5, 43]"
      ]
     },
     "execution_count": 24,
     "metadata": {},
     "output_type": "execute_result"
    }
   ],
   "source": [
    "marks3=[21,32,5,85,78,5,43]\n",
    "marks3"
   ]
  },
  {
   "cell_type": "code",
   "execution_count": 25,
   "id": "89ccb2e7",
   "metadata": {},
   "outputs": [
    {
     "data": {
      "text/plain": [
       "[5, 5, 21, 32, 43, 78, 85]"
      ]
     },
     "execution_count": 25,
     "metadata": {},
     "output_type": "execute_result"
    }
   ],
   "source": [
    "marks3.sort(reverse=False)\n",
    "marks3"
   ]
  },
  {
   "cell_type": "code",
   "execution_count": 26,
   "id": "98ed6686",
   "metadata": {},
   "outputs": [
    {
     "data": {
      "text/plain": [
       "False"
      ]
     },
     "execution_count": 26,
     "metadata": {},
     "output_type": "execute_result"
    }
   ],
   "source": [
    "7 in marks3"
   ]
  },
  {
   "cell_type": "code",
   "execution_count": 27,
   "id": "3cc070f5",
   "metadata": {},
   "outputs": [
    {
     "data": {
      "text/plain": [
       "True"
      ]
     },
     "execution_count": 27,
     "metadata": {},
     "output_type": "execute_result"
    }
   ],
   "source": [
    "5 in marks3"
   ]
  },
  {
   "cell_type": "code",
   "execution_count": 28,
   "id": "e4468da8",
   "metadata": {},
   "outputs": [
    {
     "data": {
      "text/plain": [
       "[34, 56, 78, 12, 76, 23]"
      ]
     },
     "execution_count": 28,
     "metadata": {},
     "output_type": "execute_result"
    }
   ],
   "source": [
    "marks4=[34,56,78]\n",
    "marks5=[12,76,23]\n",
    "marks4 + marks5"
   ]
  },
  {
   "cell_type": "code",
   "execution_count": 29,
   "id": "025a0781",
   "metadata": {},
   "outputs": [
    {
     "data": {
      "text/plain": [
       "[34, 56, 78, 12, 76, 23, 34, 56, 78, 12, 76, 23, 34, 56, 78, 12, 76, 23]"
      ]
     },
     "execution_count": 29,
     "metadata": {},
     "output_type": "execute_result"
    }
   ],
   "source": [
    "(marks4 + marks5)*3"
   ]
  },
  {
   "cell_type": "code",
   "execution_count": 30,
   "id": "d0da47d0",
   "metadata": {},
   "outputs": [
    {
     "data": {
      "text/plain": [
       "['Mango', 'Apple', 'Banna', 'Pineapple', 'Custered Apple', 'Strawberry']"
      ]
     },
     "execution_count": 30,
     "metadata": {},
     "output_type": "execute_result"
    }
   ],
   "source": [
    "List3=[\"Mango\",\"Apple\",\"Banna\",\"Pineapple\",\"Custered Apple\",\"Strawberry\"]\n",
    "List3"
   ]
  },
  {
   "cell_type": "code",
   "execution_count": 31,
   "id": "1820c7f2",
   "metadata": {},
   "outputs": [
    {
     "name": "stdout",
     "output_type": "stream",
     "text": [
      "MANGO,APPLE,BANNA,PINEAPPLE,CUSTERED APPLE,STRAWBERRY,"
     ]
    }
   ],
   "source": [
    "for s in List3:\n",
    "    print(s.upper(),end=\",\")\n",
    "    #print(s.replace(\"u\",\"a\") ,end=\",\")"
   ]
  },
  {
   "cell_type": "code",
   "execution_count": 32,
   "id": "776ede51",
   "metadata": {},
   "outputs": [
    {
     "data": {
      "text/plain": [
       "'Mango'"
      ]
     },
     "execution_count": 32,
     "metadata": {},
     "output_type": "execute_result"
    }
   ],
   "source": [
    "List3[0]"
   ]
  },
  {
   "cell_type": "code",
   "execution_count": 33,
   "id": "fdb4b160",
   "metadata": {},
   "outputs": [
    {
     "data": {
      "text/plain": [
       "0"
      ]
     },
     "execution_count": 33,
     "metadata": {},
     "output_type": "execute_result"
    }
   ],
   "source": [
    "List3.count(List3)"
   ]
  },
  {
   "cell_type": "code",
   "execution_count": 34,
   "id": "c44ea85f",
   "metadata": {},
   "outputs": [
    {
     "data": {
      "text/plain": [
       "1"
      ]
     },
     "execution_count": 34,
     "metadata": {},
     "output_type": "execute_result"
    }
   ],
   "source": [
    "List3.count(\"Banna\")"
   ]
  },
  {
   "cell_type": "code",
   "execution_count": 35,
   "id": "1d6d2a72",
   "metadata": {},
   "outputs": [
    {
     "data": {
      "text/plain": [
       "'Strawberry'"
      ]
     },
     "execution_count": 35,
     "metadata": {},
     "output_type": "execute_result"
    }
   ],
   "source": [
    "List3[5]"
   ]
  },
  {
   "cell_type": "markdown",
   "id": "228951a2",
   "metadata": {},
   "source": [
    "#Slicing\n"
   ]
  },
  {
   "cell_type": "code",
   "execution_count": 36,
   "id": "d1572d9c",
   "metadata": {},
   "outputs": [
    {
     "data": {
      "text/plain": [
       "['Mango', 'Apple', 'Banna', 'Pineapple']"
      ]
     },
     "execution_count": 36,
     "metadata": {},
     "output_type": "execute_result"
    }
   ],
   "source": [
    "List3[0:4]"
   ]
  },
  {
   "cell_type": "code",
   "execution_count": 37,
   "id": "f588ef20",
   "metadata": {},
   "outputs": [
    {
     "data": {
      "text/plain": [
       "['Apple', 'Banna', 'Pineapple', 'Custered Apple', 'Strawberry']"
      ]
     },
     "execution_count": 37,
     "metadata": {},
     "output_type": "execute_result"
    }
   ],
   "source": [
    "List3[1:]"
   ]
  },
  {
   "cell_type": "code",
   "execution_count": 38,
   "id": "2376b763",
   "metadata": {},
   "outputs": [
    {
     "data": {
      "text/plain": [
       "['Mango', 'Apple', 'Banna', 'Pineapple', 'Custered Apple']"
      ]
     },
     "execution_count": 38,
     "metadata": {},
     "output_type": "execute_result"
    }
   ],
   "source": [
    "List3[:5]"
   ]
  },
  {
   "cell_type": "code",
   "execution_count": 39,
   "id": "38011240",
   "metadata": {},
   "outputs": [
    {
     "data": {
      "text/plain": [
       "['Banna', 'Pineapple', 'Custered Apple', 'Strawberry']"
      ]
     },
     "execution_count": 39,
     "metadata": {},
     "output_type": "execute_result"
    }
   ],
   "source": [
    "# Negative indexing\n",
    "\n",
    "List3[-4:]"
   ]
  },
  {
   "cell_type": "code",
   "execution_count": 40,
   "id": "63db5b30",
   "metadata": {},
   "outputs": [
    {
     "data": {
      "text/plain": [
       "['Mango', 'Apple', 'Banna', 'Pineapple', 'Custered Apple', 'Strawberry']"
      ]
     },
     "execution_count": 40,
     "metadata": {},
     "output_type": "execute_result"
    }
   ],
   "source": [
    "List3"
   ]
  },
  {
   "cell_type": "code",
   "execution_count": 41,
   "id": "479fc28f",
   "metadata": {},
   "outputs": [
    {
     "name": "stdout",
     "output_type": "stream",
     "text": [
      "[1, 2, 3, 4, 5, 6, 7, 8, 9, 10, 11, 12, 13, 14, 15, 16, 17, 18, 19, 20, 21, 22, 23, 24, 25, 26, 27, 28, 29, 30] "
     ]
    }
   ],
   "source": [
    "# new list\n",
    "n1=list(range(1,31))\n",
    "print(n1, end=\" \")"
   ]
  },
  {
   "cell_type": "code",
   "execution_count": 42,
   "id": "6e8682f4",
   "metadata": {},
   "outputs": [
    {
     "data": {
      "text/plain": [
       "[1, 5, 9, 13, 17, 21, 25, 29]"
      ]
     },
     "execution_count": 42,
     "metadata": {},
     "output_type": "execute_result"
    }
   ],
   "source": [
    "n1[::4]"
   ]
  },
  {
   "cell_type": "code",
   "execution_count": 43,
   "id": "98316160",
   "metadata": {},
   "outputs": [
    {
     "data": {
      "text/plain": [
       "[3, 8, 13, 18, 23]"
      ]
     },
     "execution_count": 43,
     "metadata": {},
     "output_type": "execute_result"
    }
   ],
   "source": [
    "n1[2:27:5]# [start:end: incriment or function]"
   ]
  },
  {
   "cell_type": "code",
   "execution_count": 44,
   "id": "41c9c845",
   "metadata": {},
   "outputs": [
    {
     "data": {
      "text/plain": [
       "[2, 4, 6, 8]"
      ]
     },
     "execution_count": 44,
     "metadata": {},
     "output_type": "execute_result"
    }
   ],
   "source": [
    "n1[1:9:2]"
   ]
  },
  {
   "cell_type": "code",
   "execution_count": 45,
   "id": "a2f3d532",
   "metadata": {},
   "outputs": [
    {
     "data": {
      "text/plain": [
       "['Mango', 'Apple', 'Banna', 'Pineapple', 'Custered Apple', 'Strawberry']"
      ]
     },
     "execution_count": 45,
     "metadata": {},
     "output_type": "execute_result"
    }
   ],
   "source": [
    "List3"
   ]
  },
  {
   "cell_type": "code",
   "execution_count": 46,
   "id": "5f5fcde4",
   "metadata": {},
   "outputs": [
    {
     "data": {
      "text/plain": [
       "['Mango', 'Apple', 'Banna', 'Pineapple', 'Custered Apple', 'Strawberry']"
      ]
     },
     "execution_count": 46,
     "metadata": {},
     "output_type": "execute_result"
    }
   ],
   "source": [
    "List3=[\"Mango\",\"Apple\",\"Banna\",\"Pineapple\",\"Custered Apple\",\"Strawberry\"]\n",
    "List3"
   ]
  },
  {
   "cell_type": "code",
   "execution_count": 47,
   "id": "1322640b",
   "metadata": {},
   "outputs": [],
   "source": [
    "List3.append(\"Mulberry\")"
   ]
  },
  {
   "cell_type": "code",
   "execution_count": 48,
   "id": "59741f01",
   "metadata": {},
   "outputs": [
    {
     "data": {
      "text/plain": [
       "['Mango',\n",
       " 'Apple',\n",
       " 'Banna',\n",
       " 'Pineapple',\n",
       " 'Custered Apple',\n",
       " 'Strawberry',\n",
       " 'Mulberry']"
      ]
     },
     "execution_count": 48,
     "metadata": {},
     "output_type": "execute_result"
    }
   ],
   "source": [
    "List3"
   ]
  },
  {
   "cell_type": "code",
   "execution_count": 49,
   "id": "16f080c1",
   "metadata": {},
   "outputs": [
    {
     "data": {
      "text/plain": [
       "['Mango', 'Apple', 'Banna', 'Pineapple', 'Custered Apple', 'Strawberry']"
      ]
     },
     "execution_count": 49,
     "metadata": {},
     "output_type": "execute_result"
    }
   ],
   "source": [
    "List3.remove(\"Mulberry\")\n",
    "List3"
   ]
  },
  {
   "cell_type": "code",
   "execution_count": 3,
   "id": "d9048af1",
   "metadata": {},
   "outputs": [
    {
     "ename": "NameError",
     "evalue": "name 'List3' is not defined",
     "output_type": "error",
     "traceback": [
      "\u001b[1;31m---------------------------------------------------------------------------\u001b[0m",
      "\u001b[1;31mNameError\u001b[0m                                 Traceback (most recent call last)",
      "Cell \u001b[1;32mIn[3], line 1\u001b[0m\n\u001b[1;32m----> 1\u001b[0m \u001b[38;5;28;01mfor\u001b[39;00m fruit \u001b[38;5;129;01min\u001b[39;00m List3:\n\u001b[0;32m      2\u001b[0m     \u001b[38;5;28;01mif\u001b[39;00m \u001b[38;5;124m\"\u001b[39m\u001b[38;5;124mberry\u001b[39m\u001b[38;5;124m\"\u001b[39m \u001b[38;5;129;01min\u001b[39;00m fruit:\n\u001b[0;32m      3\u001b[0m         \u001b[38;5;28mprint\u001b[39m(fruit)\n",
      "\u001b[1;31mNameError\u001b[0m: name 'List3' is not defined"
     ]
    }
   ],
   "source": [
    "for fruit in List3:\n",
    "    if \"berry\" in fruit:\n",
    "        print(fruit)"
   ]
  },
  {
   "cell_type": "code",
   "execution_count": null,
   "id": "131a06e5",
   "metadata": {},
   "outputs": [],
   "source": []
  }
 ],
 "metadata": {
  "kernelspec": {
   "display_name": "Python 3 (ipykernel)",
   "language": "python",
   "name": "python3"
  },
  "language_info": {
   "codemirror_mode": {
    "name": "ipython",
    "version": 3
   },
   "file_extension": ".py",
   "mimetype": "text/x-python",
   "name": "python",
   "nbconvert_exporter": "python",
   "pygments_lexer": "ipython3",
   "version": "3.11.4"
  }
 },
 "nbformat": 4,
 "nbformat_minor": 5
}
