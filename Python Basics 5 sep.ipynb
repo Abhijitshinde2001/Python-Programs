{
 "cells": [
  {
   "cell_type": "code",
   "execution_count": 4,
   "id": "c5809efd",
   "metadata": {},
   "outputs": [
    {
     "data": {
      "text/plain": [
       "['Mango', 'Apple', 'Banna', 'Pineapple', 'Custered Apple', 'Strawberry']"
      ]
     },
     "execution_count": 4,
     "metadata": {},
     "output_type": "execute_result"
    }
   ],
   "source": [
    "\n",
    "# List data type\n",
    "\n",
    "\n",
    "List3=[\"Mango\",\"Apple\",\"Banna\",\"Pineapple\",\"Custered Apple\",\"Strawberry\"]\n",
    "List3"
   ]
  },
  {
   "cell_type": "code",
   "execution_count": 2,
   "id": "b467e4e6",
   "metadata": {},
   "outputs": [
    {
     "name": "stdout",
     "output_type": "stream",
     "text": [
      "Strawberry\n"
     ]
    }
   ],
   "source": [
    "for fruit in List3:\n",
    "    if \"berry\" in fruit:\n",
    "        print(fruit)"
   ]
  },
  {
   "cell_type": "code",
   "execution_count": 3,
   "id": "54a050d0",
   "metadata": {},
   "outputs": [
    {
     "name": "stdout",
     "output_type": "stream",
     "text": [
      "Mango\n",
      "Apple\n",
      "Banna\n",
      "Pineapple\n",
      "Custered Apple\n"
     ]
    }
   ],
   "source": [
    "for fruit in List3:\n",
    "    if 'berry' not in fruit:\n",
    "        print(fruit)\n",
    "    "
   ]
  },
  {
   "cell_type": "code",
   "execution_count": 4,
   "id": "7125a550",
   "metadata": {},
   "outputs": [
    {
     "data": {
      "text/plain": [
       "['Mango',\n",
       " 'Apple',\n",
       " 'Banna',\n",
       " 'Pineapple',\n",
       " 'Custered Apple',\n",
       " 'Strawberry',\n",
       " 'Balck berry']"
      ]
     },
     "execution_count": 4,
     "metadata": {},
     "output_type": "execute_result"
    }
   ],
   "source": [
    "List3.append(\"Balck berry\")\n",
    "List3"
   ]
  },
  {
   "cell_type": "code",
   "execution_count": 3,
   "id": "bd95f60b",
   "metadata": {},
   "outputs": [],
   "source": [
    "List4= []\n",
    "\n"
   ]
  },
  {
   "cell_type": "code",
   "execution_count": 2,
   "id": "3d0c0dac",
   "metadata": {},
   "outputs": [],
   "source": [
    "List5= []"
   ]
  },
  {
   "cell_type": "code",
   "execution_count": 5,
   "id": "16e9fb9d",
   "metadata": {},
   "outputs": [
    {
     "name": "stdout",
     "output_type": "stream",
     "text": [
      "[]['Mango', 'Apple', 'Banna', 'Pineapple', 'Custered Apple', 'Strawberry']"
     ]
    }
   ],
   "source": [
    "for fruit in List3:\n",
    "    if 'berry ' in fruit:\n",
    "        List4.append(fruit)\n",
    "    else:\n",
    "        List5.append(fruit)\n",
    "print(List4,end='')\n",
    "print(List5,end='')\n"
   ]
  },
  {
   "cell_type": "code",
   "execution_count": 35,
   "id": "ae11f9ee",
   "metadata": {},
   "outputs": [
    {
     "data": {
      "text/plain": [
       "[]"
      ]
     },
     "execution_count": 35,
     "metadata": {},
     "output_type": "execute_result"
    }
   ],
   "source": [
    "List4"
   ]
  },
  {
   "cell_type": "markdown",
   "id": "2e056b8c",
   "metadata": {},
   "source": [
    "##### "
   ]
  },
  {
   "cell_type": "code",
   "execution_count": 30,
   "id": "71e4122f",
   "metadata": {},
   "outputs": [
    {
     "data": {
      "text/plain": [
       "['Mango',\n",
       " 'Apple',\n",
       " 'Banna',\n",
       " 'Pineapple',\n",
       " 'Custered Apple',\n",
       " 'Strawberry',\n",
       " 'Balck berry']"
      ]
     },
     "execution_count": 30,
     "metadata": {},
     "output_type": "execute_result"
    }
   ],
   "source": [
    "List5"
   ]
  },
  {
   "cell_type": "code",
   "execution_count": 33,
   "id": "663e41ce",
   "metadata": {},
   "outputs": [
    {
     "name": "stdout",
     "output_type": "stream",
     "text": [
      "[2, 3, 4, 5, 6]\n",
      "[4, 9, 16, 25, 36]\n"
     ]
    }
   ],
   "source": [
    "l1=[2,3,4,5,6]\n",
    "l2=[]\n",
    "for num in l1:\n",
    "    l2.append(num**2)\n",
    "print(l1)\n",
    "print(l2)"
   ]
  },
  {
   "cell_type": "markdown",
   "id": "466eaacb",
   "metadata": {},
   "source": [
    "# List comprehensive"
   ]
  },
  {
   "cell_type": "code",
   "execution_count": 7,
   "id": "a5d62066",
   "metadata": {},
   "outputs": [
    {
     "name": "stdout",
     "output_type": "stream",
     "text": [
      "[2, 3, 4, 5, 6]\n",
      "[4, 9, 16, 25, 36]\n"
     ]
    }
   ],
   "source": [
    "# List comprehencive \n",
    "l1=[2,3,4,5,6]\n",
    "l2=[num**2 for num in l1]\n",
    "\n",
    "print(l1)\n",
    "print(l2)"
   ]
  },
  {
   "cell_type": "code",
   "execution_count": 8,
   "id": "891e827e",
   "metadata": {},
   "outputs": [
    {
     "data": {
      "text/plain": [
       "['Mango', 'Apple', 'Banna', 'Pineapple', 'Custered Apple', 'Strawberry']"
      ]
     },
     "execution_count": 8,
     "metadata": {},
     "output_type": "execute_result"
    }
   ],
   "source": [
    "List3"
   ]
  },
  {
   "cell_type": "code",
   "execution_count": 13,
   "id": "a028eefa",
   "metadata": {},
   "outputs": [],
   "source": [
    "List6=[ fruit for fruit in List3 \n",
    "        if 'berry' in fruit]"
   ]
  },
  {
   "cell_type": "code",
   "execution_count": 11,
   "id": "0bf0d76e",
   "metadata": {},
   "outputs": [
    {
     "data": {
      "text/plain": [
       "['Strawberry']"
      ]
     },
     "execution_count": 11,
     "metadata": {},
     "output_type": "execute_result"
    }
   ],
   "source": [
    "List6"
   ]
  },
  {
   "cell_type": "code",
   "execution_count": 14,
   "id": "c28de277",
   "metadata": {},
   "outputs": [
    {
     "data": {
      "text/plain": [
       "['Mango', 'Apple', 'Banna', 'Pineapple', 'Custered Apple']"
      ]
     },
     "execution_count": 14,
     "metadata": {},
     "output_type": "execute_result"
    }
   ],
   "source": [
    "newlist=[fruit for fruit in List3 if 'berry' not in fruit]\n",
    "newlist"
   ]
  },
  {
   "cell_type": "code",
   "execution_count": 15,
   "id": "f93a3f73",
   "metadata": {},
   "outputs": [
    {
     "data": {
      "text/plain": [
       "0"
      ]
     },
     "execution_count": 15,
     "metadata": {},
     "output_type": "execute_result"
    }
   ],
   "source": [
    "List3.index(\"Mango\")"
   ]
  },
  {
   "cell_type": "code",
   "execution_count": 17,
   "id": "f60c0468",
   "metadata": {},
   "outputs": [
    {
     "data": {
      "text/plain": [
       "1"
      ]
     },
     "execution_count": 17,
     "metadata": {},
     "output_type": "execute_result"
    }
   ],
   "source": [
    "List3.index('Apple')"
   ]
  },
  {
   "cell_type": "code",
   "execution_count": 18,
   "id": "9d99ef25",
   "metadata": {},
   "outputs": [
    {
     "data": {
      "text/plain": [
       "['Mango', 'Apple', 'Orange', 'Pineapple', 'Custered Apple', 'Strawberry']"
      ]
     },
     "execution_count": 18,
     "metadata": {},
     "output_type": "execute_result"
    }
   ],
   "source": [
    "List3[2]=\"Orange\"\n",
    "List3"
   ]
  },
  {
   "cell_type": "markdown",
   "id": "6dccc1b4",
   "metadata": {},
   "source": [
    "# Tuple python data type"
   ]
  },
  {
   "cell_type": "code",
   "execution_count": 19,
   "id": "5c5ac890",
   "metadata": {},
   "outputs": [],
   "source": [
    "name=('abhi','nama','ganya')"
   ]
  },
  {
   "cell_type": "code",
   "execution_count": 20,
   "id": "8b685c37",
   "metadata": {},
   "outputs": [
    {
     "data": {
      "text/plain": [
       "('abhi', 'nama', 'ganya')"
      ]
     },
     "execution_count": 20,
     "metadata": {},
     "output_type": "execute_result"
    }
   ],
   "source": [
    "name"
   ]
  },
  {
   "cell_type": "code",
   "execution_count": 24,
   "id": "71b25dc7",
   "metadata": {},
   "outputs": [
    {
     "data": {
      "text/plain": [
       "['__add__',\n",
       " '__class__',\n",
       " '__class_getitem__',\n",
       " '__contains__',\n",
       " '__delattr__',\n",
       " '__dir__',\n",
       " '__doc__',\n",
       " '__eq__',\n",
       " '__format__',\n",
       " '__ge__',\n",
       " '__getattribute__',\n",
       " '__getitem__',\n",
       " '__getnewargs__',\n",
       " '__getstate__',\n",
       " '__gt__',\n",
       " '__hash__',\n",
       " '__init__',\n",
       " '__init_subclass__',\n",
       " '__iter__',\n",
       " '__le__',\n",
       " '__len__',\n",
       " '__lt__',\n",
       " '__mul__',\n",
       " '__ne__',\n",
       " '__new__',\n",
       " '__reduce__',\n",
       " '__reduce_ex__',\n",
       " '__repr__',\n",
       " '__rmul__',\n",
       " '__setattr__',\n",
       " '__sizeof__',\n",
       " '__str__',\n",
       " '__subclasshook__',\n",
       " 'count',\n",
       " 'index']"
      ]
     },
     "execution_count": 24,
     "metadata": {},
     "output_type": "execute_result"
    }
   ],
   "source": [
    "dir(tuple)"
   ]
  },
  {
   "cell_type": "code",
   "execution_count": 25,
   "id": "f275f80c",
   "metadata": {},
   "outputs": [
    {
     "data": {
      "text/plain": [
       "('nama', 'gama', 'rama', 'lisa')"
      ]
     },
     "execution_count": 25,
     "metadata": {},
     "output_type": "execute_result"
    }
   ],
   "source": [
    "t1=('nama','gama','rama','lisa')\n",
    "t1"
   ]
  },
  {
   "cell_type": "code",
   "execution_count": 27,
   "id": "67dc0b44",
   "metadata": {},
   "outputs": [
    {
     "data": {
      "text/plain": [
       "'rama'"
      ]
     },
     "execution_count": 27,
     "metadata": {},
     "output_type": "execute_result"
    }
   ],
   "source": [
    "t1[2]"
   ]
  },
  {
   "cell_type": "code",
   "execution_count": 31,
   "id": "eb0dc36a",
   "metadata": {},
   "outputs": [
    {
     "data": {
      "text/plain": [
       "('nama', 'gama', 'rama', 'lisa')"
      ]
     },
     "execution_count": 31,
     "metadata": {},
     "output_type": "execute_result"
    }
   ],
   "source": [
    "t1[2]\n",
    "t1"
   ]
  },
  {
   "cell_type": "code",
   "execution_count": 33,
   "id": "855dff1f",
   "metadata": {},
   "outputs": [
    {
     "data": {
      "text/plain": [
       "tuple"
      ]
     },
     "execution_count": 33,
     "metadata": {},
     "output_type": "execute_result"
    }
   ],
   "source": [
    "type(t1)"
   ]
  },
  {
   "cell_type": "code",
   "execution_count": 34,
   "id": "8f54fa2f",
   "metadata": {},
   "outputs": [
    {
     "data": {
      "text/plain": [
       "1"
      ]
     },
     "execution_count": 34,
     "metadata": {},
     "output_type": "execute_result"
    }
   ],
   "source": [
    "t1.count('lisa')"
   ]
  },
  {
   "cell_type": "code",
   "execution_count": 39,
   "id": "8239d421",
   "metadata": {},
   "outputs": [
    {
     "data": {
      "text/plain": [
       "('mango', 'banana', 'apple', 'berry')"
      ]
     },
     "execution_count": 39,
     "metadata": {},
     "output_type": "execute_result"
    }
   ],
   "source": [
    "T1=('mango','banana','apple','berry')\n",
    "T1"
   ]
  },
  {
   "cell_type": "code",
   "execution_count": 37,
   "id": "925a1be0",
   "metadata": {},
   "outputs": [
    {
     "ename": "SyntaxError",
     "evalue": "invalid syntax (615629609.py, line 1)",
     "output_type": "error",
     "traceback": [
      "\u001b[1;36m  Cell \u001b[1;32mIn[37], line 1\u001b[1;36m\u001b[0m\n\u001b[1;33m    T1.append('strwaberry')  \"\"\"\" Due to Tuple data type is immutable in nature we can not make changes or we can not add some another data in exist tuple\"\"\"\u001b[0m\n\u001b[1;37m                             ^\u001b[0m\n\u001b[1;31mSyntaxError\u001b[0m\u001b[1;31m:\u001b[0m invalid syntax\n"
     ]
    }
   ],
   "source": [
    "T1.append('strwaberry')  \"\"\"\" Due to Tuple data type is immutable in nature we can not make changes or we can not add some another data in exist tuple\"\"\"\n",
    "\n",
    "T1"
   ]
  },
  {
   "cell_type": "code",
   "execution_count": 41,
   "id": "83d9d78d",
   "metadata": {},
   "outputs": [
    {
     "data": {
      "text/plain": [
       "True"
      ]
     },
     "execution_count": 41,
     "metadata": {},
     "output_type": "execute_result"
    }
   ],
   "source": [
    "'mango' in T1"
   ]
  },
  {
   "cell_type": "code",
   "execution_count": 42,
   "id": "e2252375",
   "metadata": {},
   "outputs": [
    {
     "data": {
      "text/plain": [
       "(1, 2, 3, 4, 5, 34, 56, 78, 90)"
      ]
     },
     "execution_count": 42,
     "metadata": {},
     "output_type": "execute_result"
    }
   ],
   "source": [
    "t2=(1,2,3,4,5)\n",
    "t4=(34,56,78,90)\n",
    "t2+t4"
   ]
  },
  {
   "cell_type": "code",
   "execution_count": 43,
   "id": "05b65c3b",
   "metadata": {},
   "outputs": [
    {
     "data": {
      "text/plain": [
       "'apple'"
      ]
     },
     "execution_count": 43,
     "metadata": {},
     "output_type": "execute_result"
    }
   ],
   "source": [
    "T1[2]"
   ]
  },
  {
   "cell_type": "code",
   "execution_count": 45,
   "id": "dd5b5564",
   "metadata": {},
   "outputs": [
    {
     "data": {
      "text/plain": [
       "'berry'"
      ]
     },
     "execution_count": 45,
     "metadata": {},
     "output_type": "execute_result"
    }
   ],
   "source": [
    "T1[3]"
   ]
  },
  {
   "cell_type": "code",
   "execution_count": 46,
   "id": "c3090d76",
   "metadata": {},
   "outputs": [
    {
     "data": {
      "text/plain": [
       "('mango', 'banana', 'apple')"
      ]
     },
     "execution_count": 46,
     "metadata": {},
     "output_type": "execute_result"
    }
   ],
   "source": [
    "#slicing\n",
    "T1[:3]"
   ]
  },
  {
   "cell_type": "code",
   "execution_count": 47,
   "id": "ed7ef06f",
   "metadata": {},
   "outputs": [
    {
     "data": {
      "text/plain": [
       "('apple', 'berry')"
      ]
     },
     "execution_count": 47,
     "metadata": {},
     "output_type": "execute_result"
    }
   ],
   "source": [
    "T1[2:]"
   ]
  },
  {
   "cell_type": "code",
   "execution_count": 50,
   "id": "04eb89ea",
   "metadata": {},
   "outputs": [
    {
     "data": {
      "text/plain": [
       "('berry',)"
      ]
     },
     "execution_count": 50,
     "metadata": {},
     "output_type": "execute_result"
    }
   ],
   "source": [
    "#Negative indexing\n",
    "T1[-1:]"
   ]
  },
  {
   "cell_type": "code",
   "execution_count": 51,
   "id": "7b68dbfa",
   "metadata": {},
   "outputs": [
    {
     "data": {
      "text/plain": [
       "('banana', 'apple', 'berry')"
      ]
     },
     "execution_count": 51,
     "metadata": {},
     "output_type": "execute_result"
    }
   ],
   "source": [
    "T1[-3:]"
   ]
  },
  {
   "cell_type": "code",
   "execution_count": 52,
   "id": "d5a4176b",
   "metadata": {},
   "outputs": [
    {
     "data": {
      "text/plain": [
       "('mango', 'banana', 'apple', 'berry')"
      ]
     },
     "execution_count": 52,
     "metadata": {},
     "output_type": "execute_result"
    }
   ],
   "source": [
    "T1"
   ]
  },
  {
   "cell_type": "code",
   "execution_count": 53,
   "id": "4ad34a0b",
   "metadata": {},
   "outputs": [],
   "source": [
    "# new tuple\n",
    "tutu=tuple(range(1,31))"
   ]
  },
  {
   "cell_type": "code",
   "execution_count": 54,
   "id": "4d9f9a57",
   "metadata": {},
   "outputs": [
    {
     "name": "stdout",
     "output_type": "stream",
     "text": [
      "(1, 2, 3, 4, 5, 6, 7, 8, 9, 10, 11, 12, 13, 14, 15, 16, 17, 18, 19, 20, 21, 22, 23, 24, 25, 26, 27, 28, 29, 30) "
     ]
    }
   ],
   "source": [
    "print(tutu,end=' ')"
   ]
  },
  {
   "cell_type": "code",
   "execution_count": 56,
   "id": "0a5c2ac8",
   "metadata": {},
   "outputs": [
    {
     "data": {
      "text/plain": [
       "(1, 5, 9, 13, 17, 21, 25, 29)"
      ]
     },
     "execution_count": 56,
     "metadata": {},
     "output_type": "execute_result"
    }
   ],
   "source": [
    "tutu[::4]"
   ]
  },
  {
   "cell_type": "code",
   "execution_count": 57,
   "id": "daad896c",
   "metadata": {},
   "outputs": [
    {
     "data": {
      "text/plain": [
       "(3, 7, 11, 15, 19, 23, 27)"
      ]
     },
     "execution_count": 57,
     "metadata": {},
     "output_type": "execute_result"
    }
   ],
   "source": [
    "tutu[2:27:4]# [start:end:increment or decrement]"
   ]
  },
  {
   "cell_type": "code",
   "execution_count": 58,
   "id": "0d2d7dce",
   "metadata": {},
   "outputs": [
    {
     "data": {
      "text/plain": [
       "(2, 4)"
      ]
     },
     "execution_count": 58,
     "metadata": {},
     "output_type": "execute_result"
    }
   ],
   "source": [
    "tutu[1:5:2]"
   ]
  },
  {
   "cell_type": "code",
   "execution_count": 62,
   "id": "ee39dabb",
   "metadata": {},
   "outputs": [
    {
     "name": "stdout",
     "output_type": "stream",
     "text": [
      "1 ,3 ,5 ,7 ,9 ,11 ,13 ,15 ,17 ,19 ,21 ,23 ,25 ,27 ,29 ,"
     ]
    }
   ],
   "source": [
    "# for loop on tuple\n",
    "\n",
    "for num in tutu:\n",
    "    if num%2:\n",
    "        print(num,end=' ,')"
   ]
  },
  {
   "cell_type": "code",
   "execution_count": 68,
   "id": "7c8e4d62",
   "metadata": {},
   "outputs": [
    {
     "name": "stdout",
     "output_type": "stream",
     "text": [
      "21 ,22 ,23 ,24 ,25 ,26 ,27 ,28 ,29 ,30 ,"
     ]
    }
   ],
   "source": [
    "for num in tutu:\n",
    "    if num>20:\n",
    "        print(num,end=' ,')"
   ]
  },
  {
   "cell_type": "code",
   "execution_count": 69,
   "id": "7bf85b17",
   "metadata": {},
   "outputs": [
    {
     "name": "stdout",
     "output_type": "stream",
     "text": [
      "1 ,2 ,3 ,4 ,5 ,6 ,7 ,8 ,9 ,10 ,11 ,12 ,13 ,14 ,15 ,16 ,17 ,18 ,19 ,"
     ]
    }
   ],
   "source": [
    "for i in tutu:\n",
    "    if i<20:\n",
    "        print(i,end=' ,')"
   ]
  },
  {
   "cell_type": "code",
   "execution_count": null,
   "id": "e87aff14",
   "metadata": {},
   "outputs": [],
   "source": []
  },
  {
   "cell_type": "markdown",
   "id": "ab5269e4",
   "metadata": {},
   "source": [
    "# Python Dictionary Data type"
   ]
  },
  {
   "cell_type": "code",
   "execution_count": 21,
   "id": "24cff3cf",
   "metadata": {},
   "outputs": [
    {
     "data": {
      "text/plain": [
       "{'India': 'Delhi', 'England': 'London', 'Nepal': 'Kathmandu'}"
      ]
     },
     "execution_count": 21,
     "metadata": {},
     "output_type": "execute_result"
    }
   ],
   "source": [
    "# dictionary data type will be not allows the duplicate values\n",
    "# the data in dictionary will be in key:value pair\n",
    "# the dictionary data type will be mutable in nature or we can update the values of dictionary\n",
    "\n",
    "capital_dict={'India':'Delhi','England':'London','Nepal':'Kathmandu'} # in dictionary data type the data will be store in {} \n",
    "capital_dict                                                   # in above dictionary there is the data of country with there capitals"
   ]
  },
  {
   "cell_type": "code",
   "execution_count": 22,
   "id": "f961a1f7",
   "metadata": {},
   "outputs": [
    {
     "data": {
      "text/plain": [
       "dict"
      ]
     },
     "execution_count": 22,
     "metadata": {},
     "output_type": "execute_result"
    }
   ],
   "source": [
    "type(capital_dict) # this provide us the type of particular dictionary"
   ]
  },
  {
   "cell_type": "code",
   "execution_count": 23,
   "id": "27f7e824",
   "metadata": {},
   "outputs": [
    {
     "data": {
      "text/plain": [
       "['__class__',\n",
       " '__class_getitem__',\n",
       " '__contains__',\n",
       " '__delattr__',\n",
       " '__delitem__',\n",
       " '__dir__',\n",
       " '__doc__',\n",
       " '__eq__',\n",
       " '__format__',\n",
       " '__ge__',\n",
       " '__getattribute__',\n",
       " '__getitem__',\n",
       " '__getstate__',\n",
       " '__gt__',\n",
       " '__hash__',\n",
       " '__init__',\n",
       " '__init_subclass__',\n",
       " '__ior__',\n",
       " '__iter__',\n",
       " '__le__',\n",
       " '__len__',\n",
       " '__lt__',\n",
       " '__ne__',\n",
       " '__new__',\n",
       " '__or__',\n",
       " '__reduce__',\n",
       " '__reduce_ex__',\n",
       " '__repr__',\n",
       " '__reversed__',\n",
       " '__ror__',\n",
       " '__setattr__',\n",
       " '__setitem__',\n",
       " '__sizeof__',\n",
       " '__str__',\n",
       " '__subclasshook__',\n",
       " 'clear',\n",
       " 'copy',\n",
       " 'fromkeys',\n",
       " 'get',\n",
       " 'items',\n",
       " 'keys',\n",
       " 'pop',\n",
       " 'popitem',\n",
       " 'setdefault',\n",
       " 'update',\n",
       " 'values']"
      ]
     },
     "execution_count": 23,
     "metadata": {},
     "output_type": "execute_result"
    }
   ],
   "source": [
    "dir(dict) # using this command we can find that how many functions or method we can perform on that"
   ]
  },
  {
   "cell_type": "code",
   "execution_count": 24,
   "id": "290a1088",
   "metadata": {},
   "outputs": [
    {
     "data": {
      "text/plain": [
       "'Delhi'"
      ]
     },
     "execution_count": 24,
     "metadata": {},
     "output_type": "execute_result"
    }
   ],
   "source": [
    "# access the element of dictionary\n",
    "capital_dict['India']\n"
   ]
  },
  {
   "cell_type": "code",
   "execution_count": 27,
   "id": "ab349cb1",
   "metadata": {},
   "outputs": [
    {
     "data": {
      "text/plain": [
       "'Kathmandu'"
      ]
     },
     "execution_count": 27,
     "metadata": {},
     "output_type": "execute_result"
    }
   ],
   "source": [
    "capital_dict['Nepal']"
   ]
  },
  {
   "cell_type": "code",
   "execution_count": 28,
   "id": "d7792af2",
   "metadata": {},
   "outputs": [
    {
     "data": {
      "text/plain": [
       "dict_keys(['India', 'England', 'Nepal'])"
      ]
     },
     "execution_count": 28,
     "metadata": {},
     "output_type": "execute_result"
    }
   ],
   "source": [
    "# keys()this command will gives us the all keys of a particular dictionary\n",
    "keys=capital_dict.keys()\n",
    "keys"
   ]
  },
  {
   "cell_type": "code",
   "execution_count": 29,
   "id": "e93b3a0d",
   "metadata": {},
   "outputs": [
    {
     "data": {
      "text/plain": [
       "dict_keys(['India', 'England', 'Nepal'])"
      ]
     },
     "execution_count": 29,
     "metadata": {},
     "output_type": "execute_result"
    }
   ],
   "source": [
    "capital_dict.keys() # we can also use this then it will provide us the list of keys"
   ]
  },
  {
   "cell_type": "code",
   "execution_count": 30,
   "id": "40803e11",
   "metadata": {},
   "outputs": [
    {
     "data": {
      "text/plain": [
       "dict_values(['Delhi', 'London', 'Kathmandu'])"
      ]
     },
     "execution_count": 30,
     "metadata": {},
     "output_type": "execute_result"
    }
   ],
   "source": [
    "# values() this command will provide us the  all values of a particular dictionary\n",
    "capital_dict.values()"
   ]
  },
  {
   "cell_type": "code",
   "execution_count": 32,
   "id": "d736b900",
   "metadata": {},
   "outputs": [
    {
     "data": {
      "text/plain": [
       "dict_items([('India', 'Delhi'), ('England', 'London'), ('Nepal', 'Kathmandu')])"
      ]
     },
     "execution_count": 32,
     "metadata": {},
     "output_type": "execute_result"
    }
   ],
   "source": [
    "# this command will gives us the all info of particular dictionary items()\n",
    "capital_dict.items()"
   ]
  },
  {
   "cell_type": "code",
   "execution_count": 39,
   "id": "81db9aad",
   "metadata": {},
   "outputs": [],
   "source": [
    "# this command will update some values of dictionary update()\n",
    "capital_dict.update({\"India\":\"mumbai\"})\n",
    "capital_dict.update()"
   ]
  },
  {
   "cell_type": "code",
   "execution_count": 40,
   "id": "ef40e25e",
   "metadata": {},
   "outputs": [
    {
     "data": {
      "text/plain": [
       "{'India': 'mumbai', 'England': 'London', 'Nepal': 'Kathmandu'}"
      ]
     },
     "execution_count": 40,
     "metadata": {},
     "output_type": "execute_result"
    }
   ],
   "source": [
    "capital_dict"
   ]
  },
  {
   "cell_type": "code",
   "execution_count": 41,
   "id": "0fb96593",
   "metadata": {},
   "outputs": [],
   "source": [
    "add_capital={'india':'nananu'}\n",
    "capital_dict.update(add_capital) # in this way we can also add the another dictionary key : values in one another"
   ]
  },
  {
   "cell_type": "code",
   "execution_count": 42,
   "id": "2491f007",
   "metadata": {},
   "outputs": [
    {
     "data": {
      "text/plain": [
       "{'India': 'mumbai',\n",
       " 'England': 'London',\n",
       " 'Nepal': 'Kathmandu',\n",
       " 'india': 'nananu'}"
      ]
     },
     "execution_count": 42,
     "metadata": {},
     "output_type": "execute_result"
    }
   ],
   "source": [
    "capital_dict"
   ]
  },
  {
   "cell_type": "code",
   "execution_count": 43,
   "id": "b6493aa8",
   "metadata": {},
   "outputs": [
    {
     "data": {
      "text/plain": [
       "'nananu'"
      ]
     },
     "execution_count": 43,
     "metadata": {},
     "output_type": "execute_result"
    }
   ],
   "source": [
    "# the pop( ) using this function we can remove the key values\n",
    "capital_dict.pop('india')"
   ]
  },
  {
   "cell_type": "code",
   "execution_count": 44,
   "id": "3d89b609",
   "metadata": {},
   "outputs": [
    {
     "data": {
      "text/plain": [
       "{'India': 'mumbai', 'England': 'London', 'Nepal': 'Kathmandu'}"
      ]
     },
     "execution_count": 44,
     "metadata": {},
     "output_type": "execute_result"
    }
   ],
   "source": [
    "capital_dict"
   ]
  },
  {
   "cell_type": "code",
   "execution_count": 46,
   "id": "8a3f6a17",
   "metadata": {},
   "outputs": [],
   "source": [
    "capital_dict['India']='Bombay' # this command will update the values of dictionary"
   ]
  },
  {
   "cell_type": "code",
   "execution_count": 47,
   "id": "838fac7d",
   "metadata": {},
   "outputs": [
    {
     "data": {
      "text/plain": [
       "{'India': 'Bombay', 'England': 'London', 'Nepal': 'Kathmandu'}"
      ]
     },
     "execution_count": 47,
     "metadata": {},
     "output_type": "execute_result"
    }
   ],
   "source": [
    "capital_dict"
   ]
  },
  {
   "cell_type": "code",
   "execution_count": 48,
   "id": "0b218881",
   "metadata": {},
   "outputs": [
    {
     "data": {
      "text/plain": [
       "('Nepal', 'Kathmandu')"
      ]
     },
     "execution_count": 48,
     "metadata": {},
     "output_type": "execute_result"
    }
   ],
   "source": [
    "# popitem ( ) this function will removes by default last key value pair in this funn there is no need to give the keys\n",
    "capital_dict.popitem()"
   ]
  },
  {
   "cell_type": "code",
   "execution_count": 49,
   "id": "3baa3cf7",
   "metadata": {},
   "outputs": [
    {
     "data": {
      "text/plain": [
       "{'India': 'Bombay', 'England': 'London'}"
      ]
     },
     "execution_count": 49,
     "metadata": {},
     "output_type": "execute_result"
    }
   ],
   "source": [
    "capital_dict"
   ]
  },
  {
   "cell_type": "code",
   "execution_count": 62,
   "id": "a18e8b28",
   "metadata": {},
   "outputs": [],
   "source": [
    "# dictionary values can be of different data type\n",
    "# we can give the list of string or a tuple of no. or single number or dictionary also we can pass to the dictionary\n",
    "mylist=[\"mango\",\"orange\",\"banana\",\"strwaberry\",\"mulberry\",\"blackberry\"]"
   ]
  },
  {
   "cell_type": "code",
   "execution_count": 63,
   "id": "a240ad3c",
   "metadata": {},
   "outputs": [],
   "source": [
    "mytuple=(20,30,40,50,60,70)"
   ]
  },
  {
   "cell_type": "code",
   "execution_count": 64,
   "id": "9ccd2ec5",
   "metadata": {},
   "outputs": [],
   "source": [
    "my_dict={'A':mylist,'B':mytuple,'C':capital_dict}"
   ]
  },
  {
   "cell_type": "code",
   "execution_count": 65,
   "id": "05e59c54",
   "metadata": {},
   "outputs": [
    {
     "data": {
      "text/plain": [
       "{'A': ['mango', 'orange', 'banana', 'strwaberry', 'mulberry', 'blackberry'],\n",
       " 'B': (20, 30, 40, 50, 60, 70),\n",
       " 'C': {'India': 'Bombay', 'England': 'London'}}"
      ]
     },
     "execution_count": 65,
     "metadata": {},
     "output_type": "execute_result"
    }
   ],
   "source": [
    "my_dict"
   ]
  },
  {
   "cell_type": "code",
   "execution_count": 66,
   "id": "d13efa6a",
   "metadata": {},
   "outputs": [
    {
     "data": {
      "text/plain": [
       "['mango', 'orange', 'banana', 'strwaberry', 'mulberry', 'blackberry']"
      ]
     },
     "execution_count": 66,
     "metadata": {},
     "output_type": "execute_result"
    }
   ],
   "source": [
    "my_dict['A']"
   ]
  },
  {
   "cell_type": "code",
   "execution_count": 67,
   "id": "baf853ec",
   "metadata": {},
   "outputs": [
    {
     "data": {
      "text/plain": [
       "(20, 30, 40, 50, 60, 70)"
      ]
     },
     "execution_count": 67,
     "metadata": {},
     "output_type": "execute_result"
    }
   ],
   "source": [
    "my_dict['B']"
   ]
  },
  {
   "cell_type": "code",
   "execution_count": 68,
   "id": "6c87802c",
   "metadata": {},
   "outputs": [
    {
     "data": {
      "text/plain": [
       "{'India': 'Bombay', 'England': 'London'}"
      ]
     },
     "execution_count": 68,
     "metadata": {},
     "output_type": "execute_result"
    }
   ],
   "source": [
    "my_dict['C']"
   ]
  },
  {
   "cell_type": "code",
   "execution_count": 70,
   "id": "1d240fb5",
   "metadata": {},
   "outputs": [
    {
     "data": {
      "text/plain": [
       "'strwaberry'"
      ]
     },
     "execution_count": 70,
     "metadata": {},
     "output_type": "execute_result"
    }
   ],
   "source": [
    "my_dict['A'][3] # in this way we can access the list data type from the my_dict"
   ]
  },
  {
   "cell_type": "code",
   "execution_count": 71,
   "id": "4a191694",
   "metadata": {},
   "outputs": [
    {
     "data": {
      "text/plain": [
       "'Bombay'"
      ]
     },
     "execution_count": 71,
     "metadata": {},
     "output_type": "execute_result"
    }
   ],
   "source": [
    "my_dict['C']['India'] # in this way we can access the dictionary by giving the key name"
   ]
  },
  {
   "cell_type": "code",
   "execution_count": 73,
   "id": "8162d98e",
   "metadata": {},
   "outputs": [
    {
     "data": {
      "text/plain": [
       "60"
      ]
     },
     "execution_count": 73,
     "metadata": {},
     "output_type": "execute_result"
    }
   ],
   "source": [
    "my_dict['B'][4] # in this way we can access the tuple of my_dict"
   ]
  },
  {
   "cell_type": "code",
   "execution_count": null,
   "id": "ad98c043",
   "metadata": {},
   "outputs": [],
   "source": [
    " "
   ]
  }
 ],
 "metadata": {
  "kernelspec": {
   "display_name": "Python 3 (ipykernel)",
   "language": "python",
   "name": "python3"
  },
  "language_info": {
   "codemirror_mode": {
    "name": "ipython",
    "version": 3
   },
   "file_extension": ".py",
   "mimetype": "text/x-python",
   "name": "python",
   "nbconvert_exporter": "python",
   "pygments_lexer": "ipython3",
   "version": "3.11.4"
  }
 },
 "nbformat": 4,
 "nbformat_minor": 5
}
